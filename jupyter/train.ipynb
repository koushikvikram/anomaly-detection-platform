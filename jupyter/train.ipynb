{
 "cells": [
  {
   "cell_type": "markdown",
   "id": "42448927-d845-45e6-aa03-5852265fa208",
   "metadata": {},
   "source": [
    "# Training an IsolationForest Model and Visualizing Decision Boundaries"
   ]
  },
  {
   "cell_type": "code",
   "execution_count": 1,
   "id": "d480d935-a2fa-4ce2-8665-e28d578c1ebf",
   "metadata": {},
   "outputs": [],
   "source": [
    "import numpy as np\n",
    "import pandas as pd\n",
    "import matplotlib.pyplot as plt\n",
    "from sklearn.ensemble import IsolationForest"
   ]
  },
  {
   "cell_type": "code",
   "execution_count": 2,
   "id": "e5deed05-7afd-4018-b774-4825239cb64b",
   "metadata": {},
   "outputs": [],
   "source": [
    "train = pd.read_csv(\"train.csv\")\n",
    "test = pd.read_csv(\"test.csv\")"
   ]
  },
  {
   "cell_type": "code",
   "execution_count": null,
   "id": "6d44fd20-de4d-409e-96c1-03d12c5e619f",
   "metadata": {},
   "outputs": [],
   "source": []
  }
 ],
 "metadata": {
  "kernelspec": {
   "display_name": "Python 3 (ipykernel)",
   "language": "python",
   "name": "python3"
  },
  "language_info": {
   "codemirror_mode": {
    "name": "ipython",
    "version": 3
   },
   "file_extension": ".py",
   "mimetype": "text/x-python",
   "name": "python",
   "nbconvert_exporter": "python",
   "pygments_lexer": "ipython3",
   "version": "3.7.12"
  }
 },
 "nbformat": 4,
 "nbformat_minor": 5
}
